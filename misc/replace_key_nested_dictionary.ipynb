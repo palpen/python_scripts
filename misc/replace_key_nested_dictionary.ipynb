{
 "cells": [
  {
   "cell_type": "code",
   "execution_count": 177,
   "metadata": {
    "collapsed": false
   },
   "outputs": [
    {
     "name": "stdout",
     "output_type": "stream",
     "text": [
      "This is a list: ['asdasd', 'asdsad', {'key$4': '/admin/cms/news/'}]\n",
      "Not a dictionary!\n",
      "Not a dictionary!\n",
      "new key: key_4\n",
      "new key: key_4\n",
      "This is a list: ['asdasd', 'asdsad', {'key_4': '/admin/cms/news/'}]\n",
      "Not a dictionary!\n",
      "Not a dictionary!\n",
      "new key: key_4\n",
      "new key: key_1\n",
      "new key: key22\n",
      "new key: key_333\n",
      "new key: key22\n",
      "new key: key_333\n",
      "{'key_4': ['asdasd', 'asdsad', {'key_4': '/admin/cms/news/'}], 'key_1': 'key1value', 'key_2': {'key_11': {'key22': 'hello', 'key_333': '/admin/cms/news/'}}}\n"
     ]
    }
   ],
   "source": [
    "\"\"\"\n",
    "Given a dictionary, we want to make sure that the keys dont contain \"$\", so replace all the \"$\" signs with an \"_\" in the keys. \n",
    "The keys in dictionary are always strings while the values can be any of the following\n",
    "a) Dictionary / List of dictionaries\n",
    "b) String / List of strings\n",
    "c) Integer / List of integers\n",
    "For example:\n",
    "{'key$1' : 'abc'}\n",
    "{'key1': {'key$2' : 'def', 'key3' : [1,2]} }\n",
    "{'key$1': 'abc', 'key$2' : ['def','ghi'], 'key3': [{'key$4' :[1,2] , 'key$5': 'jkl'}]}\n",
    "\n",
    "Solution must be general---possible to have dictionary, within a dictionary, within a dictionary\n",
    "\"\"\"\n",
    "def replace_key(dictionary):\n",
    "\n",
    "    for k, v in dictionary.iteritems():\n",
    "\n",
    "        if isinstance(v, dict):\n",
    "            \n",
    "            # replace key first\n",
    "            newkey = k.replace(\"$\", \"_\")\n",
    "            dictionary[newkey] = dictionary.pop(k)\n",
    "            \n",
    "            # apply replace_key to value\n",
    "            replace_key(v)\n",
    "            \n",
    "        elif isinstance(v, list):\n",
    "            \n",
    "            print \"This is a list: {0}\".format(v)\n",
    "            \n",
    "            # replace key first\n",
    "            newkey = k.replace(\"$\", \"_\")\n",
    "            dictionary[newkey] = dictionary.pop(k)\n",
    "            \n",
    "            # iterate across elements of v and apply replace_key()\n",
    "            for d in v:\n",
    "                \n",
    "                if not isinstance(d, dict):\n",
    "                    \n",
    "                    print \"Not a dictionary!\"\n",
    "                    \n",
    "                else:\n",
    "                \n",
    "                    replace_key(d)\n",
    "        \n",
    "        elif isinstance(k, basestring):\n",
    "\n",
    "            newkey = k.replace(\"$\", \"_\")\n",
    "            dictionary[newkey] = dictionary.pop(k)\n",
    "            \n",
    "            print \"new key: {0}\".format(newkey)\n",
    "\n",
    "            \n",
    "        \n",
    "\n",
    "example = {'key$1': 'key1value', \n",
    "           'key$2': {r'key$11': {'key$333': '/admin/cms/news/',\n",
    "                                 'key22': 'hello'}}, \n",
    "           'key$4': ['asdasd', 'asdsad', {'key$4': '/admin/cms/news/'}]\n",
    "                                         \n",
    "           }\n",
    "\n",
    "replace_key(example)\n",
    "print example"
   ]
  },
  {
   "cell_type": "markdown",
   "metadata": {},
   "source": [
    "### Things I learned\n",
    "* `isinstance(var, type)`, asdasdasdas, adasd\n",
    "* using function recursively\n",
    "* iterating through dictionary key/value pairs using `.iteritems()` method"
   ]
  },
  {
   "cell_type": "code",
   "execution_count": null,
   "metadata": {
    "collapsed": true
   },
   "outputs": [],
   "source": []
  }
 ],
 "metadata": {
  "kernelspec": {
   "display_name": "Python 2",
   "language": "python",
   "name": "python2"
  },
  "language_info": {
   "codemirror_mode": {
    "name": "ipython",
    "version": 2
   },
   "file_extension": ".py",
   "mimetype": "text/x-python",
   "name": "python",
   "nbconvert_exporter": "python",
   "pygments_lexer": "ipython2",
   "version": "2.7.12"
  }
 },
 "nbformat": 4,
 "nbformat_minor": 0
}
